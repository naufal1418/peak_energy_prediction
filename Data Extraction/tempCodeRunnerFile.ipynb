numerical.remove('wind_gush(mph)')
